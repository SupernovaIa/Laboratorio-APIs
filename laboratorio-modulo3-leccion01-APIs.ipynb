{
 "cells": [
  {
   "cell_type": "markdown",
   "metadata": {},
   "source": [
    "<div style=\"text-align: center;\">\n",
    "  <img src=\"https://github.com/Hack-io-Data/Imagenes/blob/main/01-LogosHackio/logo_naranja@4x.png?raw=true\" alt=\"esquema\" />\n",
    "</div>"
   ]
  },
  {
   "cell_type": "markdown",
   "metadata": {},
   "source": [
    "# Laboratorio API's \n",
    "\n",
    "SetMagic Productions es una empresa especializada en la provisión de servicios integrales para la realización de rodajes cinematográficos y audiovisuales. Nos dedicamos a facilitar tanto el atrezzo necesario para las producciones como los lugares idóneos para llevar a cabo los rodajes, ya sea en entornos al aire libre o en interiores.\n",
    "\n",
    "**Servicios Ofrecidos:**\n",
    "\n",
    "- **Atrezzo Creativo:** Contamos con un extenso catálogo de atrezzo que abarca desde accesorios hasta muebles y objetos temáticos para ambientar cualquier tipo de  escena.\n",
    "\n",
    "- **Locaciones Únicas:** Nuestra empresa ofrece una amplia selección de locaciones, que incluyen desde escenarios naturales como playas, bosques y montañas, hasta espacios interiores como estudios, casas históricas y edificios emblemáticos.\n",
    "\n",
    "- **Servicios de Producción:** Además de proporcionar atrezzo y locaciones, también ofrecemos servicios de producción audiovisual, incluyendo equipos de filmación, personal técnico y servicios de postproducción.\n",
    "\n",
    "**Herramientas y Tecnologías:**\n",
    "\n",
    "Para recopilar información sobre nuevas locaciones y tendencias en atrezzo, utilizamos herramientas de web scraping como Beautiful Soup y Selenium para extraer datos de sitios web relevantes y redes sociales especializadas en cine y producción audiovisual. También integramos APIs de plataformas de alquiler de locaciones y bases de datos de atrezzo para acceder a información actualizada y detallada.\n",
    "\n",
    "**Almacenamiento de Datos:**\n",
    "\n",
    "La información recopilada mediante web scraping y APIs se almacena en una base de datos no relacional MongoDB. Esta base de datos nos permite organizar eficientemente la información sobre locaciones, atrezzo, clientes y proyectos en curso, facilitando su acceso y gestión.\n",
    "\n",
    "**Objetivo:**\n",
    "\n",
    "Nuestro objetivo principal es proporcionar a nuestros clientes una experiencia fluida y personalizada en la búsqueda y selección de locaciones y atrezzo para sus proyectos audiovisuales. Utilizando tecnologías avanzadas y una amplia red de contactos en la industria, nos esforzamos por ofrecer soluciones creativas y de alta calidad que satisfagan las necesidades específicas de cada producción.\n",
    "\n",
    "\n",
    "# Lab: APIs y Obtención de Datos de Localizaciones para Rodajes\n",
    "\n",
    "En este laboratorio aprenderás a utilizar APIs para obtener información sobre localizaciones de rodaje en la Comunidad de Madrid. A lo largo de este ejercicio, implementarás funciones que te permitirán extraer coordenadas, buscar lugares de interés y almacenar la información en un formato que puedas reutilizar.\n",
    "\n",
    "## Objetivo\n",
    "\n",
    "Obtener información geográfica y sobre posibles localizaciones para rodajes en diferentes municipios de la Comunidad de Madrid, utilizando APIs como **Geopy** y **Foursquare**."
   ]
  },
  {
   "cell_type": "markdown",
   "metadata": {},
   "source": [
    "---"
   ]
  },
  {
   "cell_type": "markdown",
   "metadata": {},
   "source": [
    "## Importar librerías\n",
    "\n",
    "---"
   ]
  },
  {
   "cell_type": "code",
   "execution_count": 2,
   "metadata": {},
   "outputs": [],
   "source": [
    "import numpy as np\n",
    "import pandas as pd\n",
    "from tqdm import tqdm\n",
    "from geopy.geocoders import Nominatim\n",
    "\n",
    "import os\n",
    "import dotenv\n",
    "\n",
    "# Devuelve True si hay un .env con información\n",
    "dotenv.load_dotenv()\n",
    "\n",
    "pd.set_option('display.max_columns', None) # para poder visualizar todas las columnas de los DataFrames\n",
    "\n",
    "import warnings\n",
    "warnings.filterwarnings('ignore')\n",
    "\n",
    "import requests\n",
    "\n",
    "import time\n",
    "import random"
   ]
  },
  {
   "cell_type": "code",
   "execution_count": 3,
   "metadata": {},
   "outputs": [],
   "source": [
    "api_key = os.getenv('token')"
   ]
  },
  {
   "cell_type": "markdown",
   "metadata": {},
   "source": [
    "### Paso 1: Obtener Coordenadas de los Municipios\n",
    "\n",
    "---\n",
    "\n",
    "Primero, necesitas obtener las coordenadas geográficas (latitud y longitud) de cada municipio en la Comunidad de Madrid. Para esto, utilizarás la biblioteca **Geopy** y su funcionalidad para geocodificar. La lista de los municipios de la Comunidad de Madrid es:"
   ]
  },
  {
   "cell_type": "markdown",
   "metadata": {},
   "source": [
    "## ¡IMPORTANTE! \n",
    "\n",
    "Ejecutar este código del paso 1 SOLO si no tenemos el DataFrame. En caso contrario podemos ir al paso 2 y cargarlo"
   ]
  },
  {
   "cell_type": "code",
   "execution_count": 4,
   "metadata": {},
   "outputs": [],
   "source": [
    "lista_municipios = ['acebeda-la', 'ajalvir', 'alameda-del-valle', 'alamo-el', 'alcala-de-henares', 'alcobendas', 'alcorcon', 'aldea-del-fresno', 'algete', 'alpedrete', 'ambite', 'anchuelo', 'aranjuez', 'arganda-del-rey', 'arroyomolinos', 'atazar-el', 'batres', 'becerril-de-la-sierra', 'belmonte-de-tajo', 'berrueco-el', 'berzosa-del-lozoya', 'boadilla-del-monte', 'boalo-el', 'braojos', 'brea-de-tajo', 'brunete', 'buitrago-del-lozoya', 'bustarviejo', 'cabanillas-de-la-sierra', 'cabrera-la', 'cadalso-de-los-vidrios', 'camarma-de-esteruelas', 'campo-real', 'canencia', 'carabana', 'casarrubuelos', 'cenicientos', 'cercedilla', 'cervera-de-buitrago', 'chapineria', 'chinchon', 'ciempozuelos', 'cobena', 'collado-mediano', 'collado-villalba', 'colmenar-del-arroyo', 'colmenar-de-oreja', 'colmenarejo', 'colmenar-viejo', 'corpa', 'coslada', 'cubas-de-la-sagra', 'daganzo-de-arriba', 'escorial-el', 'estremera', 'fresnedillas-de-la-oliva', 'fresno-de-torote', 'fuenlabrada', 'fuente-el-saz-de-jarama', 'fuentiduena-de-tajo', 'galapagar', 'garganta-de-los-montes', 'gargantilla-del-lozoya-y-pinilla-de-buitrago', 'gascones', 'getafe', 'grinon', 'guadalix-de-la-sierra', 'guadarrama', 'hiruela-la', 'horcajo-de-la-sierra-aoslos', 'horcajuelo-de-la-sierra', 'hoyo-de-manzanares', 'humanes-de-madrid', 'leganes', 'loeches', 'lozoya', 'lozoyuela-navas-sieteiglesias', 'madarcos', 'madrid', 'majadahonda', 'manzanares-el-real', 'meco', 'mejorada-del-campo', 'miraflores-de-la-sierra', 'molar-el', 'molinos-los', 'montejo-de-la-sierra', 'moraleja-de-enmedio', 'moralzarzal', 'morata-de-tajuna', 'mostoles', 'navacerrada', 'navalafuente', 'navalagamella', 'navalcarnero', 'navarredonda-y-san-mames', 'navas-del-rey', 'nuevo-baztan', 'olmeda-de-las-fuentes', 'orusco-de-tajuna', 'paracuellos-de-jarama', 'parla', 'patones', 'pedrezuela', 'pelayos-de-la-presa', 'perales-de-tajuna', 'pezuela-de-las-torres', 'pinilla-del-valle', 'pinto', 'pinuecar-gandullas', 'pozuelo-de-alarcon', 'pozuelo-del-rey', 'pradena-del-rincon', 'puebla-de-la-sierra', 'puentes-viejas-manjiron', 'quijorna', 'rascafria', 'reduena', 'ribatejada', 'rivas-vaciamadrid', 'robledillo-de-la-jara', 'robledo-de-chavela', 'robregordo', 'rozas-de-madrid-las', 'rozas-de-puerto-real', 'san-agustin-del-guadalix', 'san-fernando-de-henares', 'san-lorenzo-de-el-escorial', 'san-martin-de-la-vega', 'san-martin-de-valdeiglesias', 'san-sebastian-de-los-reyes', 'santa-maria-de-la-alameda', 'santorcaz', 'santos-de-la-humosa-los', 'serna-del-monte-la', 'serranillos-del-valle', 'sevilla-la-nueva', 'somosierra', 'soto-del-real', 'talamanca-de-jarama', 'tielmes', 'titulcia', 'torrejon-de-ardoz', 'torrejon-de-la-calzada', 'torrejon-de-velasco', 'torrelaguna', 'torrelodones', 'torremocha-de-jarama', 'torres-de-la-alameda', 'tres-cantos', 'valdaracete', 'valdeavero', 'valdelaguna', 'valdemanco', 'valdemaqueda', 'valdemorillo', 'valdemoro', 'valdeolmos-alalpardo', 'valdepielagos', 'valdetorres-de-jarama', 'valdilecha', 'valverde-de-alcala', 'velilla-de-san-antonio', 'vellon-el', 'venturada', 'villaconejos', 'villa-del-prado', 'villalbilla', 'villamanrique-de-tajo', 'villamanta', 'villamantilla', 'villanueva-de-la-canada', 'villanueva-del-pardillo', 'villanueva-de-perales', 'villar-del-olmo', 'villarejo-de-salvanes', 'villaviciosa-de-odon', 'villavieja-del-lozoya', 'zarzalejo']"
   ]
  },
  {
   "cell_type": "code",
   "execution_count": 5,
   "metadata": {},
   "outputs": [
    {
     "name": "stdout",
     "output_type": "stream",
     "text": [
      "T-Mobile, 175, 5th Avenue, Manhattan Community Board 5, Manhattan, New York County, City of New York, New York, 10010, United States\n",
      "(40.7412079, -73.9895713)\n",
      "{'place_id': 15468830, 'licence': 'Data © OpenStreetMap contributors, ODbL 1.0. http://osm.org/copyright', 'osm_type': 'node', 'osm_id': 10177726834, 'lat': '40.7412079', 'lon': '-73.9895713', 'class': 'shop', 'type': 'mobile_phone', 'place_rank': 30, 'importance': 9.175936522464359e-05, 'addresstype': 'shop', 'name': 'T-Mobile', 'display_name': 'T-Mobile, 175, 5th Avenue, Manhattan Community Board 5, Manhattan, New York County, City of New York, New York, 10010, United States', 'boundingbox': ['40.7411579', '40.7412579', '-73.9896213', '-73.9895213']}\n"
     ]
    }
   ],
   "source": [
    "geolocator = Nominatim(user_agent=\"my_app\")"
   ]
  },
  {
   "cell_type": "code",
   "execution_count": 13,
   "metadata": {},
   "outputs": [
    {
     "name": "stderr",
     "output_type": "stream",
     "text": [
      "100%|██████████| 179/179 [01:35<00:00,  1.88it/s]\n"
     ]
    }
   ],
   "source": [
    "locations = []\n",
    "\n",
    "for municipio in tqdm(lista_municipios):\n",
    "\n",
    "    location = geolocator.geocode(municipio)\n",
    "    dc = {}\n",
    "    dc['Nombre'] = municipio\n",
    "    dc['Direccion'] = location.address\n",
    "    dc['Latitud'] = location.latitude\n",
    "    dc['Longitud'] = location.longitude\n",
    "\n",
    "    locations.append(dc)"
   ]
  },
  {
   "cell_type": "code",
   "execution_count": 25,
   "metadata": {},
   "outputs": [
    {
     "name": "stdout",
     "output_type": "stream",
     "text": [
      "Todas las coordenadas concuerdan\n"
     ]
    }
   ],
   "source": [
    "ok = True\n",
    "\n",
    "for i in range(len(locations)):\n",
    "\n",
    "    lat = locations[i]['Latitud']\n",
    "    long = locations[i]['Longitud']\n",
    "    if lat > 90 or lat < -90:\n",
    "        ok = False\n",
    "        print(f'Error en {lista_municipios[i]}')\n",
    "\n",
    "    elif long > 180 or long < -180:\n",
    "        ok = False\n",
    "        print(f'Error en {lista_municipios[i]}')\n",
    "\n",
    "if ok:\n",
    "    print('Todas las coordenadas concuerdan')"
   ]
  },
  {
   "cell_type": "code",
   "execution_count": 206,
   "metadata": {},
   "outputs": [
    {
     "data": {
      "text/html": [
       "<div>\n",
       "<style scoped>\n",
       "    .dataframe tbody tr th:only-of-type {\n",
       "        vertical-align: middle;\n",
       "    }\n",
       "\n",
       "    .dataframe tbody tr th {\n",
       "        vertical-align: top;\n",
       "    }\n",
       "\n",
       "    .dataframe thead th {\n",
       "        text-align: right;\n",
       "    }\n",
       "</style>\n",
       "<table border=\"1\" class=\"dataframe\">\n",
       "  <thead>\n",
       "    <tr style=\"text-align: right;\">\n",
       "      <th></th>\n",
       "      <th>Nombre</th>\n",
       "      <th>Direccion</th>\n",
       "      <th>Latitud</th>\n",
       "      <th>Longitud</th>\n",
       "    </tr>\n",
       "  </thead>\n",
       "  <tbody>\n",
       "    <tr>\n",
       "      <th>0</th>\n",
       "      <td>acebeda-la</td>\n",
       "      <td>La Acebeda, Comunidad de Madrid, España</td>\n",
       "      <td>41.086958</td>\n",
       "      <td>-3.624399</td>\n",
       "    </tr>\n",
       "    <tr>\n",
       "      <th>1</th>\n",
       "      <td>ajalvir</td>\n",
       "      <td>Ajalvir, Comunidad de Madrid, 28864, España</td>\n",
       "      <td>40.534230</td>\n",
       "      <td>-3.480782</td>\n",
       "    </tr>\n",
       "    <tr>\n",
       "      <th>2</th>\n",
       "      <td>alameda-del-valle</td>\n",
       "      <td>Alameda del Valle, Comunidad de Madrid, España</td>\n",
       "      <td>40.917718</td>\n",
       "      <td>-3.843822</td>\n",
       "    </tr>\n",
       "    <tr>\n",
       "      <th>3</th>\n",
       "      <td>alamo-el</td>\n",
       "      <td>El Álamo, Comunidad de Madrid, 28607, España</td>\n",
       "      <td>40.230730</td>\n",
       "      <td>-3.990589</td>\n",
       "    </tr>\n",
       "    <tr>\n",
       "      <th>4</th>\n",
       "      <td>alcala-de-henares</td>\n",
       "      <td>Alcalá de Henares, Comunidad de Madrid, España</td>\n",
       "      <td>40.481840</td>\n",
       "      <td>-3.364497</td>\n",
       "    </tr>\n",
       "    <tr>\n",
       "      <th>...</th>\n",
       "      <td>...</td>\n",
       "      <td>...</td>\n",
       "      <td>...</td>\n",
       "      <td>...</td>\n",
       "    </tr>\n",
       "    <tr>\n",
       "      <th>115</th>\n",
       "      <td>quijorna</td>\n",
       "      <td>Quijorna, Comunidad de Madrid, 28693, España</td>\n",
       "      <td>40.429083</td>\n",
       "      <td>-4.056538</td>\n",
       "    </tr>\n",
       "    <tr>\n",
       "      <th>116</th>\n",
       "      <td>rascafria</td>\n",
       "      <td>Rascafría, Comunidad de Madrid, España</td>\n",
       "      <td>40.903887</td>\n",
       "      <td>-3.880285</td>\n",
       "    </tr>\n",
       "    <tr>\n",
       "      <th>117</th>\n",
       "      <td>reduena</td>\n",
       "      <td>Redueña, Comunidad de Madrid, 28721, España</td>\n",
       "      <td>40.815805</td>\n",
       "      <td>-3.603931</td>\n",
       "    </tr>\n",
       "    <tr>\n",
       "      <th>118</th>\n",
       "      <td>ribatejada</td>\n",
       "      <td>Ribatejada, Comunidad de Madrid, 28815, España</td>\n",
       "      <td>40.666495</td>\n",
       "      <td>-3.391918</td>\n",
       "    </tr>\n",
       "    <tr>\n",
       "      <th>119</th>\n",
       "      <td>rivas-vaciamadrid</td>\n",
       "      <td>Rivas-Vaciamadrid, Comunidad de Madrid, España</td>\n",
       "      <td>40.353605</td>\n",
       "      <td>-3.531088</td>\n",
       "    </tr>\n",
       "  </tbody>\n",
       "</table>\n",
       "<p>120 rows × 4 columns</p>\n",
       "</div>"
      ],
      "text/plain": [
       "                Nombre                                       Direccion  \\\n",
       "0           acebeda-la         La Acebeda, Comunidad de Madrid, España   \n",
       "1              ajalvir     Ajalvir, Comunidad de Madrid, 28864, España   \n",
       "2    alameda-del-valle  Alameda del Valle, Comunidad de Madrid, España   \n",
       "3             alamo-el    El Álamo, Comunidad de Madrid, 28607, España   \n",
       "4    alcala-de-henares  Alcalá de Henares, Comunidad de Madrid, España   \n",
       "..                 ...                                             ...   \n",
       "115           quijorna    Quijorna, Comunidad de Madrid, 28693, España   \n",
       "116          rascafria          Rascafría, Comunidad de Madrid, España   \n",
       "117            reduena     Redueña, Comunidad de Madrid, 28721, España   \n",
       "118         ribatejada  Ribatejada, Comunidad de Madrid, 28815, España   \n",
       "119  rivas-vaciamadrid  Rivas-Vaciamadrid, Comunidad de Madrid, España   \n",
       "\n",
       "       Latitud  Longitud  \n",
       "0    41.086958 -3.624399  \n",
       "1    40.534230 -3.480782  \n",
       "2    40.917718 -3.843822  \n",
       "3    40.230730 -3.990589  \n",
       "4    40.481840 -3.364497  \n",
       "..         ...       ...  \n",
       "115  40.429083 -4.056538  \n",
       "116  40.903887 -3.880285  \n",
       "117  40.815805 -3.603931  \n",
       "118  40.666495 -3.391918  \n",
       "119  40.353605 -3.531088  \n",
       "\n",
       "[120 rows x 4 columns]"
      ]
     },
     "execution_count": 206,
     "metadata": {},
     "output_type": "execute_result"
    }
   ],
   "source": [
    "df_locations = pd.DataFrame(locations)\n",
    "\n",
    "df_locations.head(120)"
   ]
  },
  {
   "cell_type": "code",
   "execution_count": 33,
   "metadata": {},
   "outputs": [],
   "source": [
    "df_locations.to_csv('datos/locations.csv')"
   ]
  },
  {
   "cell_type": "markdown",
   "metadata": {},
   "source": [
    "---"
   ]
  },
  {
   "cell_type": "markdown",
   "metadata": {},
   "source": [
    "### Paso 2: Buscar Localizaciones Relevantes con la API de Foursquare\n",
    "\n",
    "Una vez obtenidas las coordenadas de los municipios, utilizarás la API de Foursquare para buscar servicios que pueden ser importantes en un rodaje (ej: parques, edificios históricos, plazas).\n",
    "\n",
    "En este punto es importante que reflexiones sobre los servicios o establecimientos clave que considerarías relevantes para establecer una empresa de servicios para rodajes. No hay una única respuesta correcta, ya que depende de la estrategia y visión que tengas. Al menos deberás elegir 5 tipos de servicios que puedan influir en la decisión de ubicación. Ejemplos de estos servicios pueden incluir:\n",
    "\n",
    "- Parques o áreas verdes para rodajes exteriores.\n",
    "\n",
    "- Centros comerciales que faciliten acceso a diferentes necesidades logísticas.\n",
    "\n",
    "- Bares o restaurantes para el catering del equipo.\n",
    "\n",
    "- Tiendas especializadas en disfraces o vestuario.\n",
    "\n",
    "- Alquileres de equipos audiovisuales.\n",
    "\n",
    "Es crucial entender que esta selección depende de la naturaleza y enfoque de la empresa. Tal vez para algunos proyectos sea más importante estar cerca de áreas residenciales o lugares con buena conexión de transporte. Otros proyectos podrían priorizar la proximidad a tiendas especializadas o servicios de entretenimiento. Es vuestra decisión! \n",
    "\n",
    "1. Crear una cuenta en [Foursquare](https://location.foursquare.com/developer/) y obtener la API Key necesaria para realizar las solicitudes. Leer la documentación para entender como funciona. \n",
    "\n",
    "2. Definir una función para realizar búsquedas de lugares cercanos a las coordenadas de cada municipio. Esta función debe permitir filtrar los resultados por categoría y distancia.\n",
    "\n",
    "3. Explorar las categorías disponibles en Foursquare y seleccionar aquellas que se ajusten a los servicios clave que decidáis para vuestra estrategia.\n",
    "\n",
    "4. Aplicar la función de búsqueda a cada municipio, recopilando información sobre los lugares relevantes.\n",
    "\n",
    "Recuerda que la elección de categorías es un punto de análisis clave en este ejercicio, ya que la información que obtendréis será fundamental para decidir la ubicación ideal para vuestra empresa. Aseguraos de justificar vuestras decisiones y considerar diferentes perspectivas. Para cada una de los municipios deberás sacar la información de todos los servicios elegidos. "
   ]
  },
  {
   "cell_type": "markdown",
   "metadata": {},
   "source": [
    "---"
   ]
  },
  {
   "cell_type": "code",
   "execution_count": 5,
   "metadata": {},
   "outputs": [],
   "source": [
    "# Cargar dataframe\n",
    "\n",
    "df_locations = pd.read_csv(('datos/locations.csv'))"
   ]
  },
  {
   "cell_type": "code",
   "execution_count": 7,
   "metadata": {},
   "outputs": [
    {
     "data": {
      "text/html": [
       "<div>\n",
       "<style scoped>\n",
       "    .dataframe tbody tr th:only-of-type {\n",
       "        vertical-align: middle;\n",
       "    }\n",
       "\n",
       "    .dataframe tbody tr th {\n",
       "        vertical-align: top;\n",
       "    }\n",
       "\n",
       "    .dataframe thead th {\n",
       "        text-align: right;\n",
       "    }\n",
       "</style>\n",
       "<table border=\"1\" class=\"dataframe\">\n",
       "  <thead>\n",
       "    <tr style=\"text-align: right;\">\n",
       "      <th></th>\n",
       "      <th>Unnamed: 0</th>\n",
       "      <th>Nombre</th>\n",
       "      <th>Direccion</th>\n",
       "      <th>Latitud</th>\n",
       "      <th>Longitud</th>\n",
       "    </tr>\n",
       "  </thead>\n",
       "  <tbody>\n",
       "    <tr>\n",
       "      <th>0</th>\n",
       "      <td>0</td>\n",
       "      <td>acebeda-la</td>\n",
       "      <td>La Acebeda, Comunidad de Madrid, España</td>\n",
       "      <td>41.086958</td>\n",
       "      <td>-3.624399</td>\n",
       "    </tr>\n",
       "    <tr>\n",
       "      <th>1</th>\n",
       "      <td>1</td>\n",
       "      <td>ajalvir</td>\n",
       "      <td>Ajalvir, Comunidad de Madrid, 28864, España</td>\n",
       "      <td>40.534230</td>\n",
       "      <td>-3.480782</td>\n",
       "    </tr>\n",
       "    <tr>\n",
       "      <th>2</th>\n",
       "      <td>2</td>\n",
       "      <td>alameda-del-valle</td>\n",
       "      <td>Alameda del Valle, Comunidad de Madrid, España</td>\n",
       "      <td>40.917718</td>\n",
       "      <td>-3.843822</td>\n",
       "    </tr>\n",
       "    <tr>\n",
       "      <th>3</th>\n",
       "      <td>3</td>\n",
       "      <td>alamo-el</td>\n",
       "      <td>El Álamo, Comunidad de Madrid, 28607, España</td>\n",
       "      <td>40.230730</td>\n",
       "      <td>-3.990589</td>\n",
       "    </tr>\n",
       "    <tr>\n",
       "      <th>4</th>\n",
       "      <td>4</td>\n",
       "      <td>alcala-de-henares</td>\n",
       "      <td>Alcalá de Henares, Comunidad de Madrid, España</td>\n",
       "      <td>40.481840</td>\n",
       "      <td>-3.364497</td>\n",
       "    </tr>\n",
       "  </tbody>\n",
       "</table>\n",
       "</div>"
      ],
      "text/plain": [
       "   Unnamed: 0             Nombre  \\\n",
       "0           0         acebeda-la   \n",
       "1           1            ajalvir   \n",
       "2           2  alameda-del-valle   \n",
       "3           3           alamo-el   \n",
       "4           4  alcala-de-henares   \n",
       "\n",
       "                                        Direccion    Latitud  Longitud  \n",
       "0         La Acebeda, Comunidad de Madrid, España  41.086958 -3.624399  \n",
       "1     Ajalvir, Comunidad de Madrid, 28864, España  40.534230 -3.480782  \n",
       "2  Alameda del Valle, Comunidad de Madrid, España  40.917718 -3.843822  \n",
       "3    El Álamo, Comunidad de Madrid, 28607, España  40.230730 -3.990589  \n",
       "4  Alcalá de Henares, Comunidad de Madrid, España  40.481840 -3.364497  "
      ]
     },
     "execution_count": 7,
     "metadata": {},
     "output_type": "execute_result"
    }
   ],
   "source": [
    "df_locations.head()"
   ]
  },
  {
   "cell_type": "markdown",
   "metadata": {},
   "source": [
    "Buscar lugares cercanos por coordenadas y radio para cuando obtengamos los kartings busquemos:\n",
    "\n",
    "+ Restaurantes\n",
    "+ Parking\n",
    "+ Centro comercial\n",
    "+ Almacenes"
   ]
  },
  {
   "cell_type": "code",
   "execution_count": 8,
   "metadata": {},
   "outputs": [],
   "source": [
    "def buscar_lugares_cercanos(coordenadas, categoria=None, query=None, distancia=1000):\n",
    "\n",
    "    url = \"https://api.foursquare.com/v3/places/search\"\n",
    "    \n",
    "    headers = {\n",
    "        \"accept\": \"application/json\",\n",
    "        \"Authorization\": api_key\n",
    "    }\n",
    "    \n",
    "    # Parámetros: latitud, longitud y radio (en metros)\n",
    "    params = {\n",
    "        \"ll\": f\"{coordenadas[0]},{coordenadas[1]}\",\n",
    "        \"radius\": distancia\n",
    "    }\n",
    "    \n",
    "    # Agregar la categoría si está definida\n",
    "    if categoria:\n",
    "        params[\"categories\"] = categoria\n",
    "\n",
    "    elif query:\n",
    "        params[\"query\"] = query\n",
    "    \n",
    "    # Realizar la solicitud a Foursquare\n",
    "    response = requests.get(url, headers=headers, params=params)\n",
    "\n",
    "    # Si el código de estado es 200\n",
    "    if response.status_code == 200:\n",
    "        # Devolvemos la respuesta en json\n",
    "        return response.json()\n",
    "    \n",
    "    else:\n",
    "        print(f'Error {response.status_code}')"
   ]
  },
  {
   "cell_type": "markdown",
   "metadata": {},
   "source": [
    "Necesitamos estar cerca de un circuito de Karts ya que estamos especializados en rodajes para motorsport. Es importante tener parking disponible cerca para dejar los vehículos de desplazamiento del equipo y tener bares o restaurantes cerca. A nuestro equipo no le gusta el 100 Montaditos ni el McDonald's por lo que debemos excluirlo de nuestra búsqueda."
   ]
  },
  {
   "cell_type": "markdown",
   "metadata": {},
   "source": [
    "Búsqueda de karting"
   ]
  },
  {
   "cell_type": "code",
   "execution_count": 9,
   "metadata": {},
   "outputs": [],
   "source": [
    "# Almacenamos las coordenadas en un array\n",
    "coordenadas = df_locations[['Latitud', 'Longitud']].values"
   ]
  },
  {
   "cell_type": "code",
   "execution_count": 37,
   "metadata": {},
   "outputs": [],
   "source": [
    "resultados_karting = []\n",
    "\n",
    "for i in range(df_locations.shape[0]):\n",
    "\n",
    "    # Tiempo de espera aleatorio entre llamadas\n",
    "    time.sleep(random.uniform(0.5, 1.5))  # más eficiente que randint para tiempos aleatorios en este rango\n",
    "\n",
    "    # Hacemos la llamada a la API\n",
    "    res = buscar_lugares_cercanos(coordenadas[i], categoria=None, query=\"karting\", distancia=3000)\n",
    "\n",
    "    # Si hay resultados, los procesamos\n",
    "    for lugar in res.get('results', []):\n",
    "        if lugar not in resultados_karting:  # Añadimos si no está en la lista\n",
    "            resultados_karting.append(lugar)\n"
   ]
  },
  {
   "cell_type": "code",
   "execution_count": 136,
   "metadata": {},
   "outputs": [],
   "source": [
    "df_karting = pd.DataFrame(resultados_karting)"
   ]
  },
  {
   "cell_type": "code",
   "execution_count": 42,
   "metadata": {},
   "outputs": [],
   "source": [
    "df_karting.to_csv('datos/karting.csv')"
   ]
  },
  {
   "cell_type": "markdown",
   "metadata": {},
   "source": [
    "### Paso 3: Limpieza de la Información\n",
    "\n",
    "La información obtenida de Foursquare puede incluir muchos detalles innecesarios. Tu objetivo es quedarte únicamente con los campos relevantes para tu análisis (nombre, dirección, coordenadas, tipo de lugar, etc.).\n",
    "\n",
    "\n",
    "1. Explorar la estructura de los datos obtenidos para identificar los campos importantes y limpiar la información.\n",
    "\n",
    "2. Eliminar duplicados y valores nulos para garantizar la consistencia y calidad de los datos."
   ]
  },
  {
   "cell_type": "code",
   "execution_count": 137,
   "metadata": {},
   "outputs": [],
   "source": [
    "# Quitamos las columnas innecesarias\n",
    "df_karting.drop(columns=['fsq_id', 'categories', 'chains', 'closed_bucket', 'link', 'related_places', 'timezone'], inplace=True)"
   ]
  },
  {
   "cell_type": "code",
   "execution_count": 138,
   "metadata": {},
   "outputs": [],
   "source": [
    "# Como están ordenados por distancia nos quedamos con el primero\n",
    "df_karting.drop_duplicates(['name'], keep='first', inplace=True)"
   ]
  },
  {
   "cell_type": "code",
   "execution_count": 140,
   "metadata": {},
   "outputs": [],
   "source": [
    "df_karting['coordenadas'] = df_karting['geocodes'].apply(lambda x: x['main'])"
   ]
  },
  {
   "cell_type": "code",
   "execution_count": 141,
   "metadata": {},
   "outputs": [],
   "source": [
    "df_karting.drop(columns='geocodes', inplace=True)"
   ]
  },
  {
   "cell_type": "code",
   "execution_count": 142,
   "metadata": {},
   "outputs": [],
   "source": [
    "def sacar_valor(dc):\n",
    "\n",
    "    try:\n",
    "        return dc.get('formatted_address')\n",
    "    \n",
    "    except:\n",
    "        return np.nan"
   ]
  },
  {
   "cell_type": "code",
   "execution_count": 144,
   "metadata": {},
   "outputs": [],
   "source": [
    "# Descomprimir\n",
    "df_locs_karting = df_karting['location'].apply(sacar_valor)"
   ]
  },
  {
   "cell_type": "code",
   "execution_count": 145,
   "metadata": {},
   "outputs": [],
   "source": [
    "df_karting['direccion'] = df_locs_karting"
   ]
  },
  {
   "cell_type": "code",
   "execution_count": 146,
   "metadata": {},
   "outputs": [],
   "source": [
    "df_coord_karting = df_karting['coordenadas'].apply(sacar_valor)"
   ]
  },
  {
   "cell_type": "code",
   "execution_count": 147,
   "metadata": {},
   "outputs": [],
   "source": [
    "df_karting['latitud'] = df_karting['coordenadas'].apply(lambda x: x.get('latitude'))\n",
    "df_karting['longitud'] = df_karting['coordenadas'].apply(lambda x: x.get('longitude'))"
   ]
  },
  {
   "cell_type": "code",
   "execution_count": 148,
   "metadata": {},
   "outputs": [],
   "source": [
    "df_karting.drop(columns=['location', 'coordenadas'], inplace=True)"
   ]
  },
  {
   "cell_type": "code",
   "execution_count": 150,
   "metadata": {},
   "outputs": [
    {
     "data": {
      "text/html": [
       "<div>\n",
       "<style scoped>\n",
       "    .dataframe tbody tr th:only-of-type {\n",
       "        vertical-align: middle;\n",
       "    }\n",
       "\n",
       "    .dataframe tbody tr th {\n",
       "        vertical-align: top;\n",
       "    }\n",
       "\n",
       "    .dataframe thead th {\n",
       "        text-align: right;\n",
       "    }\n",
       "</style>\n",
       "<table border=\"1\" class=\"dataframe\">\n",
       "  <thead>\n",
       "    <tr style=\"text-align: right;\">\n",
       "      <th></th>\n",
       "      <th>distance</th>\n",
       "      <th>name</th>\n",
       "      <th>direccion</th>\n",
       "      <th>latitud</th>\n",
       "      <th>longitud</th>\n",
       "    </tr>\n",
       "  </thead>\n",
       "  <tbody>\n",
       "    <tr>\n",
       "      <th>0</th>\n",
       "      <td>133</td>\n",
       "      <td>Karting Asupark</td>\n",
       "      <td>Carretera M-501, Km 6, Boadilla del Monte Comu...</td>\n",
       "      <td>40.391774</td>\n",
       "      <td>-3.903343</td>\n",
       "    </tr>\n",
       "    <tr>\n",
       "      <th>2</th>\n",
       "      <td>2766</td>\n",
       "      <td>Karting Angel Burgueño</td>\n",
       "      <td>Carretera Burgos, Km 45,8, 28723 Pedrezuela Ma...</td>\n",
       "      <td>40.756348</td>\n",
       "      <td>-3.600688</td>\n",
       "    </tr>\n",
       "    <tr>\n",
       "      <th>4</th>\n",
       "      <td>793</td>\n",
       "      <td>KartingRivas</td>\n",
       "      <td>Calle de la Fundición, 89 (La Tuerca), 28522 R...</td>\n",
       "      <td>40.347270</td>\n",
       "      <td>-3.535410</td>\n",
       "    </tr>\n",
       "    <tr>\n",
       "      <th>5</th>\n",
       "      <td>801</td>\n",
       "      <td>Karting Rivas</td>\n",
       "      <td>Calle la Tuerca, 6 Bajo, 28522 Rivas-Vaciamadr...</td>\n",
       "      <td>40.347078</td>\n",
       "      <td>-3.535109</td>\n",
       "    </tr>\n",
       "    <tr>\n",
       "      <th>6</th>\n",
       "      <td>1690</td>\n",
       "      <td>Diver Karting</td>\n",
       "      <td>Calle V, s/n, 28230 Las Rozas de Madrid Madrid</td>\n",
       "      <td>40.500581</td>\n",
       "      <td>-3.893405</td>\n",
       "    </tr>\n",
       "    <tr>\n",
       "      <th>7</th>\n",
       "      <td>1767</td>\n",
       "      <td>Karting y Paintball Madrid</td>\n",
       "      <td>Calle Bruselas, 3, 28232 Madrid Madrid</td>\n",
       "      <td>40.500739</td>\n",
       "      <td>-3.894336</td>\n",
       "    </tr>\n",
       "    <tr>\n",
       "      <th>9</th>\n",
       "      <td>3810</td>\n",
       "      <td>Karting Club los Santos</td>\n",
       "      <td>Canal de Isabel II, Km 1, 28817 Los Santos de ...</td>\n",
       "      <td>40.494251</td>\n",
       "      <td>-3.250199</td>\n",
       "    </tr>\n",
       "    <tr>\n",
       "      <th>11</th>\n",
       "      <td>1937</td>\n",
       "      <td>Karting Soto</td>\n",
       "      <td>Carretera Miraflores, Km 40,4, 28791 Soto del ...</td>\n",
       "      <td>40.736011</td>\n",
       "      <td>-3.786822</td>\n",
       "    </tr>\n",
       "    <tr>\n",
       "      <th>12</th>\n",
       "      <td>2861</td>\n",
       "      <td>Karting Club Soto</td>\n",
       "      <td>Carretera Colmenar Viejo, 0, 28791 Soto del Re...</td>\n",
       "      <td>40.741160</td>\n",
       "      <td>-3.756782</td>\n",
       "    </tr>\n",
       "  </tbody>\n",
       "</table>\n",
       "</div>"
      ],
      "text/plain": [
       "    distance                        name  \\\n",
       "0        133             Karting Asupark   \n",
       "2       2766      Karting Angel Burgueño   \n",
       "4        793                KartingRivas   \n",
       "5        801               Karting Rivas   \n",
       "6       1690               Diver Karting   \n",
       "7       1767  Karting y Paintball Madrid   \n",
       "9       3810     Karting Club los Santos   \n",
       "11      1937                Karting Soto   \n",
       "12      2861           Karting Club Soto   \n",
       "\n",
       "                                            direccion    latitud  longitud  \n",
       "0   Carretera M-501, Km 6, Boadilla del Monte Comu...  40.391774 -3.903343  \n",
       "2   Carretera Burgos, Km 45,8, 28723 Pedrezuela Ma...  40.756348 -3.600688  \n",
       "4   Calle de la Fundición, 89 (La Tuerca), 28522 R...  40.347270 -3.535410  \n",
       "5   Calle la Tuerca, 6 Bajo, 28522 Rivas-Vaciamadr...  40.347078 -3.535109  \n",
       "6      Calle V, s/n, 28230 Las Rozas de Madrid Madrid  40.500581 -3.893405  \n",
       "7              Calle Bruselas, 3, 28232 Madrid Madrid  40.500739 -3.894336  \n",
       "9   Canal de Isabel II, Km 1, 28817 Los Santos de ...  40.494251 -3.250199  \n",
       "11  Carretera Miraflores, Km 40,4, 28791 Soto del ...  40.736011 -3.786822  \n",
       "12  Carretera Colmenar Viejo, 0, 28791 Soto del Re...  40.741160 -3.756782  "
      ]
     },
     "execution_count": 150,
     "metadata": {},
     "output_type": "execute_result"
    }
   ],
   "source": [
    "df_karting"
   ]
  },
  {
   "cell_type": "markdown",
   "metadata": {},
   "source": [
    "\n",
    "\n",
    "### Paso 4: Almacenamiento de los Datos\n",
    "\n",
    "Una vez que tengas la información limpia y organizada, almacénala en un archivo CSV que puedas reutilizar en futuros análisis."
   ]
  },
  {
   "cell_type": "code",
   "execution_count": 151,
   "metadata": {},
   "outputs": [],
   "source": [
    "df_karting.to_csv('datos/karting_limpio.csv')"
   ]
  }
 ],
 "metadata": {
  "kernelspec": {
   "display_name": "test",
   "language": "python",
   "name": "python3"
  },
  "language_info": {
   "codemirror_mode": {
    "name": "ipython",
    "version": 3
   },
   "file_extension": ".py",
   "mimetype": "text/x-python",
   "name": "python",
   "nbconvert_exporter": "python",
   "pygments_lexer": "ipython3",
   "version": "3.12.4"
  }
 },
 "nbformat": 4,
 "nbformat_minor": 2
}
