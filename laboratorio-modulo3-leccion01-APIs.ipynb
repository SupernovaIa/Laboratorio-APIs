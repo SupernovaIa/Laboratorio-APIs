{
 "cells": [
  {
   "cell_type": "markdown",
   "metadata": {},
   "source": [
    "<div style=\"text-align: center;\">\n",
    "  <img src=\"https://github.com/Hack-io-Data/Imagenes/blob/main/01-LogosHackio/logo_naranja@4x.png?raw=true\" alt=\"esquema\" />\n",
    "</div>"
   ]
  },
  {
   "cell_type": "markdown",
   "metadata": {},
   "source": [
    "# Laboratorio API's \n",
    "\n",
    "SetMagic Productions es una empresa especializada en la provisión de servicios integrales para la realización de rodajes cinematográficos y audiovisuales. Nos dedicamos a facilitar tanto el atrezzo necesario para las producciones como los lugares idóneos para llevar a cabo los rodajes, ya sea en entornos al aire libre o en interiores.\n",
    "\n",
    "**Servicios Ofrecidos:**\n",
    "\n",
    "- **Atrezzo Creativo:** Contamos con un extenso catálogo de atrezzo que abarca desde accesorios hasta muebles y objetos temáticos para ambientar cualquier tipo de  escena.\n",
    "\n",
    "- **Locaciones Únicas:** Nuestra empresa ofrece una amplia selección de locaciones, que incluyen desde escenarios naturales como playas, bosques y montañas, hasta espacios interiores como estudios, casas históricas y edificios emblemáticos.\n",
    "\n",
    "- **Servicios de Producción:** Además de proporcionar atrezzo y locaciones, también ofrecemos servicios de producción audiovisual, incluyendo equipos de filmación, personal técnico y servicios de postproducción.\n",
    "\n",
    "**Herramientas y Tecnologías:**\n",
    "\n",
    "Para recopilar información sobre nuevas locaciones y tendencias en atrezzo, utilizamos herramientas de web scraping como Beautiful Soup y Selenium para extraer datos de sitios web relevantes y redes sociales especializadas en cine y producción audiovisual. También integramos APIs de plataformas de alquiler de locaciones y bases de datos de atrezzo para acceder a información actualizada y detallada.\n",
    "\n",
    "**Almacenamiento de Datos:**\n",
    "\n",
    "La información recopilada mediante web scraping y APIs se almacena en una base de datos no relacional MongoDB. Esta base de datos nos permite organizar eficientemente la información sobre locaciones, atrezzo, clientes y proyectos en curso, facilitando su acceso y gestión.\n",
    "\n",
    "**Objetivo:**\n",
    "\n",
    "Nuestro objetivo principal es proporcionar a nuestros clientes una experiencia fluida y personalizada en la búsqueda y selección de locaciones y atrezzo para sus proyectos audiovisuales. Utilizando tecnologías avanzadas y una amplia red de contactos en la industria, nos esforzamos por ofrecer soluciones creativas y de alta calidad que satisfagan las necesidades específicas de cada producción.\n",
    "\n",
    "\n",
    "# Lab: APIs y Obtención de Datos de Localizaciones para Rodajes\n",
    "\n",
    "En este laboratorio aprenderás a utilizar APIs para obtener información sobre localizaciones de rodaje en la Comunidad de Madrid. A lo largo de este ejercicio, implementarás funciones que te permitirán extraer coordenadas, buscar lugares de interés y almacenar la información en un formato que puedas reutilizar.\n",
    "\n",
    "## Objetivo\n",
    "\n",
    "Obtener información geográfica y sobre posibles localizaciones para rodajes en diferentes municipios de la Comunidad de Madrid, utilizando APIs como **Geopy** y **Foursquare**.\n",
    "\n",
    "### Paso 1: Obtener Coordenadas de los Municipios\n",
    "\n",
    "Primero, necesitas obtener las coordenadas geográficas (latitud y longitud) de cada municipio en la Comunidad de Madrid. Para esto, utilizarás la biblioteca **Geopy** y su funcionalidad para geocodificar. La lista de los municipios de la Comunidad de Madrid es:\n",
    "\n",
    "```python\n",
    "lista_municipios = ['acebeda-la', 'ajalvir', 'alameda-del-valle', 'alamo-el', 'alcala-de-henares', 'alcobendas', 'alcorcon', 'aldea-del-fresno', 'algete', 'alpedrete', 'ambite', 'anchuelo', 'aranjuez', 'arganda-del-rey', 'arroyomolinos', 'atazar-el', 'batres', 'becerril-de-la-sierra', 'belmonte-de-tajo', 'berrueco-el', 'berzosa-del-lozoya', 'boadilla-del-monte', 'boalo-el', 'braojos', 'brea-de-tajo', 'brunete', 'buitrago-del-lozoya', 'bustarviejo', 'cabanillas-de-la-sierra', 'cabrera-la', 'cadalso-de-los-vidrios', 'camarma-de-esteruelas', 'campo-real', 'canencia', 'carabana', 'casarrubuelos', 'cenicientos', 'cercedilla', 'cervera-de-buitrago', 'chapineria', 'chinchon', 'ciempozuelos', 'cobena', 'collado-mediano', 'collado-villalba', 'colmenar-del-arroyo', 'colmenar-de-oreja', 'colmenarejo', 'colmenar-viejo', 'corpa', 'coslada', 'cubas-de-la-sagra', 'daganzo-de-arriba', 'escorial-el', 'estremera', 'fresnedillas-de-la-oliva', 'fresno-de-torote', 'fuenlabrada', 'fuente-el-saz-de-jarama', 'fuentiduena-de-tajo', 'galapagar', 'garganta-de-los-montes', 'gargantilla-del-lozoya-y-pinilla-de-buitrago', 'gascones', 'getafe', 'grinon', 'guadalix-de-la-sierra', 'guadarrama', 'hiruela-la', 'horcajo-de-la-sierra-aoslos', 'horcajuelo-de-la-sierra', 'hoyo-de-manzanares', 'humanes-de-madrid', 'leganes', 'loeches', 'lozoya', 'lozoyuela-navas-sieteiglesias', 'madarcos', 'madrid', 'majadahonda', 'manzanares-el-real', 'meco', 'mejorada-del-campo', 'miraflores-de-la-sierra', 'molar-el', 'molinos-los', 'montejo-de-la-sierra', 'moraleja-de-enmedio', 'moralzarzal', 'morata-de-tajuna', 'mostoles', 'navacerrada', 'navalafuente', 'navalagamella', 'navalcarnero', 'navarredonda-y-san-mames', 'navas-del-rey', 'nuevo-baztan', 'olmeda-de-las-fuentes', 'orusco-de-tajuna', 'paracuellos-de-jarama', 'parla', 'patones', 'pedrezuela', 'pelayos-de-la-presa', 'perales-de-tajuna', 'pezuela-de-las-torres', 'pinilla-del-valle', 'pinto', 'pinuecar-gandullas', 'pozuelo-de-alarcon', 'pozuelo-del-rey', 'pradena-del-rincon', 'puebla-de-la-sierra', 'puentes-viejas-manjiron', 'quijorna', 'rascafria', 'reduena', 'ribatejada', 'rivas-vaciamadrid', 'robledillo-de-la-jara', 'robledo-de-chavela', 'robregordo', 'rozas-de-madrid-las', 'rozas-de-puerto-real', 'san-agustin-del-guadalix', 'san-fernando-de-henares', 'san-lorenzo-de-el-escorial', 'san-martin-de-la-vega', 'san-martin-de-valdeiglesias', 'san-sebastian-de-los-reyes', 'santa-maria-de-la-alameda', 'santorcaz', 'santos-de-la-humosa-los', 'serna-del-monte-la', 'serranillos-del-valle', 'sevilla-la-nueva', 'somosierra', 'soto-del-real', 'talamanca-de-jarama', 'tielmes', 'titulcia', 'torrejon-de-ardoz', 'torrejon-de-la-calzada', 'torrejon-de-velasco', 'torrelaguna', 'torrelodones', 'torremocha-de-jarama', 'torres-de-la-alameda', 'tres-cantos', 'valdaracete', 'valdeavero', 'valdelaguna', 'valdemanco', 'valdemaqueda', 'valdemorillo', 'valdemoro', 'valdeolmos-alalpardo', 'valdepielagos', 'valdetorres-de-jarama', 'valdilecha', 'valverde-de-alcala', 'velilla-de-san-antonio', 'vellon-el', 'venturada', 'villaconejos', 'villa-del-prado', 'villalbilla', 'villamanrique-de-tajo', 'villamanta', 'villamantilla', 'villanueva-de-la-canada', 'villanueva-del-pardillo', 'villanueva-de-perales', 'villar-del-olmo', 'villarejo-de-salvanes', 'villaviciosa-de-odon', 'villavieja-del-lozoya', 'zarzalejo']\n",
    "```\n",
    "\n",
    "1. Instalar y configurar la biblioteca de Geopy para realizar la geocodificación.\n",
    "\n",
    "2. Crear una función que reciba una lista de municipios y devuelva un DataFrame con los nombres de los municipios y sus respectivas coordenadas (latitud y longitud).\n",
    "\n",
    "3. Validar los datos obtenidos para verificar si hay municipios sin coordenadas y resolver posibles problemas, como nombres incorrectos o faltantes.\n",
    "\n",
    "\n",
    "### Paso 2: Buscar Localizaciones Relevantes con la API de Foursquare\n",
    "\n",
    "Una vez obtenidas las coordenadas de los municipios, utilizarás la API de Foursquare para buscar servicios que pueden ser importantes en un rodaje (ej: parques, edificios históricos, plazas).\n",
    "\n",
    "En este punto es importante que reflexiones sobre los servicios o establecimientos clave que considerarías relevantes para establecer una empresa de servicios para rodajes. No hay una única respuesta correcta, ya que depende de la estrategia y visión que tengas. Al menos deberás elegir 5 tipos de servicios que puedan influir en la decisión de ubicación. Ejemplos de estos servicios pueden incluir:\n",
    "\n",
    "- Parques o áreas verdes para rodajes exteriores.\n",
    "\n",
    "- Centros comerciales que faciliten acceso a diferentes necesidades logísticas.\n",
    "\n",
    "- Bares o restaurantes para el catering del equipo.\n",
    "\n",
    "- Tiendas especializadas en disfraces o vestuario.\n",
    "\n",
    "- Alquileres de equipos audiovisuales.\n",
    "\n",
    "Es crucial entender que esta selección depende de la naturaleza y enfoque de la empresa. Tal vez para algunos proyectos sea más importante estar cerca de áreas residenciales o lugares con buena conexión de transporte. Otros proyectos podrían priorizar la proximidad a tiendas especializadas o servicios de entretenimiento. Es vuestra decisión! \n",
    "\n",
    "1. Crear una cuenta en [Foursquare](https://location.foursquare.com/developer/) y obtener la API Key necesaria para realizar las solicitudes. Leer la documentación para entender como funciona. \n",
    "\n",
    "2. Definir una función para realizar búsquedas de lugares cercanos a las coordenadas de cada municipio. Esta función debe permitir filtrar los resultados por categoría y distancia.\n",
    "\n",
    "3. Explorar las categorías disponibles en Foursquare y seleccionar aquellas que se ajusten a los servicios clave que decidáis para vuestra estrategia.\n",
    "\n",
    "4. Aplicar la función de búsqueda a cada municipio, recopilando información sobre los lugares relevantes.\n",
    "\n",
    "Recuerda que la elección de categorías es un punto de análisis clave en este ejercicio, ya que la información que obtendréis será fundamental para decidir la ubicación ideal para vuestra empresa. Aseguraos de justificar vuestras decisiones y considerar diferentes perspectivas. Para cada una de los municipios deberás sacar la información de todos los servicios elegidos. \n",
    "\n",
    "### Paso 3: Limpieza de la Información\n",
    "\n",
    "La información obtenida de Foursquare puede incluir muchos detalles innecesarios. Tu objetivo es quedarte únicamente con los campos relevantes para tu análisis (nombre, dirección, coordenadas, tipo de lugar, etc.).\n",
    "\n",
    "\n",
    "1. Explorar la estructura de los datos obtenidos para identificar los campos importantes y limpiar la información.\n",
    "\n",
    "2. Eliminar duplicados y valores nulos para garantizar la consistencia y calidad de los datos.\n",
    "\n",
    "### Paso 4: Almacenamiento de los Datos\n",
    "\n",
    "Una vez que tengas la información limpia y organizada, almacénala en un archivo CSV que puedas reutilizar en futuros análisis.\n"
   ]
  },
  {
   "cell_type": "markdown",
   "metadata": {},
   "source": [
    "---"
   ]
  },
  {
   "cell_type": "code",
   "execution_count": 213,
   "metadata": {},
   "outputs": [],
   "source": [
    "import numpy as np\n",
    "import pandas as pd\n",
    "from tqdm import tqdm\n",
    "from geopy.geocoders import Nominatim\n",
    "\n",
    "import os\n",
    "import dotenv\n",
    "\n",
    "# Devuelve True si hay un .env con información\n",
    "dotenv.load_dotenv()\n",
    "\n",
    "pd.set_option('display.max_columns', None) # para poder visualizar todas las columnas de los DataFrames\n",
    "\n",
    "import warnings\n",
    "warnings.filterwarnings('ignore')\n",
    "\n",
    "import requests\n",
    "\n",
    "import time\n",
    "import random"
   ]
  },
  {
   "cell_type": "code",
   "execution_count": 29,
   "metadata": {},
   "outputs": [],
   "source": [
    "api_key = os.getenv('token')"
   ]
  },
  {
   "cell_type": "markdown",
   "metadata": {},
   "source": [
    "### Paso 1: Obtener Coordenadas de los Municipios\n",
    "\n",
    "Primero, necesitas obtener las coordenadas geográficas (latitud y longitud) de cada municipio en la Comunidad de Madrid. Para esto, utilizarás la biblioteca **Geopy** y su funcionalidad para geocodificar. La lista de los municipios de la Comunidad de Madrid es:"
   ]
  },
  {
   "cell_type": "code",
   "execution_count": 4,
   "metadata": {},
   "outputs": [],
   "source": [
    "lista_municipios = ['acebeda-la', 'ajalvir', 'alameda-del-valle', 'alamo-el', 'alcala-de-henares', 'alcobendas', 'alcorcon', 'aldea-del-fresno', 'algete', 'alpedrete', 'ambite', 'anchuelo', 'aranjuez', 'arganda-del-rey', 'arroyomolinos', 'atazar-el', 'batres', 'becerril-de-la-sierra', 'belmonte-de-tajo', 'berrueco-el', 'berzosa-del-lozoya', 'boadilla-del-monte', 'boalo-el', 'braojos', 'brea-de-tajo', 'brunete', 'buitrago-del-lozoya', 'bustarviejo', 'cabanillas-de-la-sierra', 'cabrera-la', 'cadalso-de-los-vidrios', 'camarma-de-esteruelas', 'campo-real', 'canencia', 'carabana', 'casarrubuelos', 'cenicientos', 'cercedilla', 'cervera-de-buitrago', 'chapineria', 'chinchon', 'ciempozuelos', 'cobena', 'collado-mediano', 'collado-villalba', 'colmenar-del-arroyo', 'colmenar-de-oreja', 'colmenarejo', 'colmenar-viejo', 'corpa', 'coslada', 'cubas-de-la-sagra', 'daganzo-de-arriba', 'escorial-el', 'estremera', 'fresnedillas-de-la-oliva', 'fresno-de-torote', 'fuenlabrada', 'fuente-el-saz-de-jarama', 'fuentiduena-de-tajo', 'galapagar', 'garganta-de-los-montes', 'gargantilla-del-lozoya-y-pinilla-de-buitrago', 'gascones', 'getafe', 'grinon', 'guadalix-de-la-sierra', 'guadarrama', 'hiruela-la', 'horcajo-de-la-sierra-aoslos', 'horcajuelo-de-la-sierra', 'hoyo-de-manzanares', 'humanes-de-madrid', 'leganes', 'loeches', 'lozoya', 'lozoyuela-navas-sieteiglesias', 'madarcos', 'madrid', 'majadahonda', 'manzanares-el-real', 'meco', 'mejorada-del-campo', 'miraflores-de-la-sierra', 'molar-el', 'molinos-los', 'montejo-de-la-sierra', 'moraleja-de-enmedio', 'moralzarzal', 'morata-de-tajuna', 'mostoles', 'navacerrada', 'navalafuente', 'navalagamella', 'navalcarnero', 'navarredonda-y-san-mames', 'navas-del-rey', 'nuevo-baztan', 'olmeda-de-las-fuentes', 'orusco-de-tajuna', 'paracuellos-de-jarama', 'parla', 'patones', 'pedrezuela', 'pelayos-de-la-presa', 'perales-de-tajuna', 'pezuela-de-las-torres', 'pinilla-del-valle', 'pinto', 'pinuecar-gandullas', 'pozuelo-de-alarcon', 'pozuelo-del-rey', 'pradena-del-rincon', 'puebla-de-la-sierra', 'puentes-viejas-manjiron', 'quijorna', 'rascafria', 'reduena', 'ribatejada', 'rivas-vaciamadrid', 'robledillo-de-la-jara', 'robledo-de-chavela', 'robregordo', 'rozas-de-madrid-las', 'rozas-de-puerto-real', 'san-agustin-del-guadalix', 'san-fernando-de-henares', 'san-lorenzo-de-el-escorial', 'san-martin-de-la-vega', 'san-martin-de-valdeiglesias', 'san-sebastian-de-los-reyes', 'santa-maria-de-la-alameda', 'santorcaz', 'santos-de-la-humosa-los', 'serna-del-monte-la', 'serranillos-del-valle', 'sevilla-la-nueva', 'somosierra', 'soto-del-real', 'talamanca-de-jarama', 'tielmes', 'titulcia', 'torrejon-de-ardoz', 'torrejon-de-la-calzada', 'torrejon-de-velasco', 'torrelaguna', 'torrelodones', 'torremocha-de-jarama', 'torres-de-la-alameda', 'tres-cantos', 'valdaracete', 'valdeavero', 'valdelaguna', 'valdemanco', 'valdemaqueda', 'valdemorillo', 'valdemoro', 'valdeolmos-alalpardo', 'valdepielagos', 'valdetorres-de-jarama', 'valdilecha', 'valverde-de-alcala', 'velilla-de-san-antonio', 'vellon-el', 'venturada', 'villaconejos', 'villa-del-prado', 'villalbilla', 'villamanrique-de-tajo', 'villamanta', 'villamantilla', 'villanueva-de-la-canada', 'villanueva-del-pardillo', 'villanueva-de-perales', 'villar-del-olmo', 'villarejo-de-salvanes', 'villaviciosa-de-odon', 'villavieja-del-lozoya', 'zarzalejo']"
   ]
  },
  {
   "cell_type": "code",
   "execution_count": 5,
   "metadata": {},
   "outputs": [
    {
     "name": "stdout",
     "output_type": "stream",
     "text": [
      "T-Mobile, 175, 5th Avenue, Manhattan Community Board 5, Manhattan, New York County, City of New York, New York, 10010, United States\n",
      "(40.7412079, -73.9895713)\n",
      "{'place_id': 15468830, 'licence': 'Data © OpenStreetMap contributors, ODbL 1.0. http://osm.org/copyright', 'osm_type': 'node', 'osm_id': 10177726834, 'lat': '40.7412079', 'lon': '-73.9895713', 'class': 'shop', 'type': 'mobile_phone', 'place_rank': 30, 'importance': 9.175936522464359e-05, 'addresstype': 'shop', 'name': 'T-Mobile', 'display_name': 'T-Mobile, 175, 5th Avenue, Manhattan Community Board 5, Manhattan, New York County, City of New York, New York, 10010, United States', 'boundingbox': ['40.7411579', '40.7412579', '-73.9896213', '-73.9895213']}\n"
     ]
    }
   ],
   "source": [
    "geolocator = Nominatim(user_agent=\"my_app\")"
   ]
  },
  {
   "cell_type": "code",
   "execution_count": 13,
   "metadata": {},
   "outputs": [
    {
     "name": "stderr",
     "output_type": "stream",
     "text": [
      "100%|██████████| 179/179 [01:35<00:00,  1.88it/s]\n"
     ]
    }
   ],
   "source": [
    "locations = []\n",
    "\n",
    "for municipio in tqdm(lista_municipios):\n",
    "\n",
    "    location = geolocator.geocode(municipio)\n",
    "    dc = {}\n",
    "    dc['Nombre'] = municipio\n",
    "    dc['Direccion'] = location.address\n",
    "    dc['Latitud'] = location.latitude\n",
    "    dc['Longitud'] = location.longitude\n",
    "\n",
    "    locations.append(dc)"
   ]
  },
  {
   "cell_type": "code",
   "execution_count": 25,
   "metadata": {},
   "outputs": [
    {
     "name": "stdout",
     "output_type": "stream",
     "text": [
      "Todas las coordenadas concuerdan\n"
     ]
    }
   ],
   "source": [
    "ok = True\n",
    "\n",
    "for i in range(len(locations)):\n",
    "\n",
    "    lat = locations[i]['Latitud']\n",
    "    long = locations[i]['Longitud']\n",
    "    if lat > 90 or lat < -90:\n",
    "        ok = False\n",
    "        print(f'Error en {lista_municipios[i]}')\n",
    "\n",
    "    elif long > 180 or long < -180:\n",
    "        ok = False\n",
    "        print(f'Error en {lista_municipios[i]}')\n",
    "\n",
    "if ok:\n",
    "    print('Todas las coordenadas concuerdan')"
   ]
  },
  {
   "cell_type": "code",
   "execution_count": 206,
   "metadata": {},
   "outputs": [
    {
     "data": {
      "text/html": [
       "<div>\n",
       "<style scoped>\n",
       "    .dataframe tbody tr th:only-of-type {\n",
       "        vertical-align: middle;\n",
       "    }\n",
       "\n",
       "    .dataframe tbody tr th {\n",
       "        vertical-align: top;\n",
       "    }\n",
       "\n",
       "    .dataframe thead th {\n",
       "        text-align: right;\n",
       "    }\n",
       "</style>\n",
       "<table border=\"1\" class=\"dataframe\">\n",
       "  <thead>\n",
       "    <tr style=\"text-align: right;\">\n",
       "      <th></th>\n",
       "      <th>Nombre</th>\n",
       "      <th>Direccion</th>\n",
       "      <th>Latitud</th>\n",
       "      <th>Longitud</th>\n",
       "    </tr>\n",
       "  </thead>\n",
       "  <tbody>\n",
       "    <tr>\n",
       "      <th>0</th>\n",
       "      <td>acebeda-la</td>\n",
       "      <td>La Acebeda, Comunidad de Madrid, España</td>\n",
       "      <td>41.086958</td>\n",
       "      <td>-3.624399</td>\n",
       "    </tr>\n",
       "    <tr>\n",
       "      <th>1</th>\n",
       "      <td>ajalvir</td>\n",
       "      <td>Ajalvir, Comunidad de Madrid, 28864, España</td>\n",
       "      <td>40.534230</td>\n",
       "      <td>-3.480782</td>\n",
       "    </tr>\n",
       "    <tr>\n",
       "      <th>2</th>\n",
       "      <td>alameda-del-valle</td>\n",
       "      <td>Alameda del Valle, Comunidad de Madrid, España</td>\n",
       "      <td>40.917718</td>\n",
       "      <td>-3.843822</td>\n",
       "    </tr>\n",
       "    <tr>\n",
       "      <th>3</th>\n",
       "      <td>alamo-el</td>\n",
       "      <td>El Álamo, Comunidad de Madrid, 28607, España</td>\n",
       "      <td>40.230730</td>\n",
       "      <td>-3.990589</td>\n",
       "    </tr>\n",
       "    <tr>\n",
       "      <th>4</th>\n",
       "      <td>alcala-de-henares</td>\n",
       "      <td>Alcalá de Henares, Comunidad de Madrid, España</td>\n",
       "      <td>40.481840</td>\n",
       "      <td>-3.364497</td>\n",
       "    </tr>\n",
       "    <tr>\n",
       "      <th>...</th>\n",
       "      <td>...</td>\n",
       "      <td>...</td>\n",
       "      <td>...</td>\n",
       "      <td>...</td>\n",
       "    </tr>\n",
       "    <tr>\n",
       "      <th>115</th>\n",
       "      <td>quijorna</td>\n",
       "      <td>Quijorna, Comunidad de Madrid, 28693, España</td>\n",
       "      <td>40.429083</td>\n",
       "      <td>-4.056538</td>\n",
       "    </tr>\n",
       "    <tr>\n",
       "      <th>116</th>\n",
       "      <td>rascafria</td>\n",
       "      <td>Rascafría, Comunidad de Madrid, España</td>\n",
       "      <td>40.903887</td>\n",
       "      <td>-3.880285</td>\n",
       "    </tr>\n",
       "    <tr>\n",
       "      <th>117</th>\n",
       "      <td>reduena</td>\n",
       "      <td>Redueña, Comunidad de Madrid, 28721, España</td>\n",
       "      <td>40.815805</td>\n",
       "      <td>-3.603931</td>\n",
       "    </tr>\n",
       "    <tr>\n",
       "      <th>118</th>\n",
       "      <td>ribatejada</td>\n",
       "      <td>Ribatejada, Comunidad de Madrid, 28815, España</td>\n",
       "      <td>40.666495</td>\n",
       "      <td>-3.391918</td>\n",
       "    </tr>\n",
       "    <tr>\n",
       "      <th>119</th>\n",
       "      <td>rivas-vaciamadrid</td>\n",
       "      <td>Rivas-Vaciamadrid, Comunidad de Madrid, España</td>\n",
       "      <td>40.353605</td>\n",
       "      <td>-3.531088</td>\n",
       "    </tr>\n",
       "  </tbody>\n",
       "</table>\n",
       "<p>120 rows × 4 columns</p>\n",
       "</div>"
      ],
      "text/plain": [
       "                Nombre                                       Direccion  \\\n",
       "0           acebeda-la         La Acebeda, Comunidad de Madrid, España   \n",
       "1              ajalvir     Ajalvir, Comunidad de Madrid, 28864, España   \n",
       "2    alameda-del-valle  Alameda del Valle, Comunidad de Madrid, España   \n",
       "3             alamo-el    El Álamo, Comunidad de Madrid, 28607, España   \n",
       "4    alcala-de-henares  Alcalá de Henares, Comunidad de Madrid, España   \n",
       "..                 ...                                             ...   \n",
       "115           quijorna    Quijorna, Comunidad de Madrid, 28693, España   \n",
       "116          rascafria          Rascafría, Comunidad de Madrid, España   \n",
       "117            reduena     Redueña, Comunidad de Madrid, 28721, España   \n",
       "118         ribatejada  Ribatejada, Comunidad de Madrid, 28815, España   \n",
       "119  rivas-vaciamadrid  Rivas-Vaciamadrid, Comunidad de Madrid, España   \n",
       "\n",
       "       Latitud  Longitud  \n",
       "0    41.086958 -3.624399  \n",
       "1    40.534230 -3.480782  \n",
       "2    40.917718 -3.843822  \n",
       "3    40.230730 -3.990589  \n",
       "4    40.481840 -3.364497  \n",
       "..         ...       ...  \n",
       "115  40.429083 -4.056538  \n",
       "116  40.903887 -3.880285  \n",
       "117  40.815805 -3.603931  \n",
       "118  40.666495 -3.391918  \n",
       "119  40.353605 -3.531088  \n",
       "\n",
       "[120 rows x 4 columns]"
      ]
     },
     "execution_count": 206,
     "metadata": {},
     "output_type": "execute_result"
    }
   ],
   "source": [
    "df_locations = pd.DataFrame(locations)\n",
    "\n",
    "df_locations.head(120)"
   ]
  },
  {
   "cell_type": "code",
   "execution_count": 33,
   "metadata": {},
   "outputs": [],
   "source": [
    "df_locations.to_csv('datos/locations.csv')"
   ]
  },
  {
   "cell_type": "markdown",
   "metadata": {},
   "source": [
    "---"
   ]
  },
  {
   "cell_type": "markdown",
   "metadata": {},
   "source": [
    "### Paso 2: Buscar Localizaciones Relevantes con la API de Foursquare\n",
    "\n",
    "Una vez obtenidas las coordenadas de los municipios, utilizarás la API de Foursquare para buscar servicios que pueden ser importantes en un rodaje (ej: parques, edificios históricos, plazas).\n",
    "\n",
    "En este punto es importante que reflexiones sobre los servicios o establecimientos clave que considerarías relevantes para establecer una empresa de servicios para rodajes. No hay una única respuesta correcta, ya que depende de la estrategia y visión que tengas. Al menos deberás elegir 5 tipos de servicios que puedan influir en la decisión de ubicación. Ejemplos de estos servicios pueden incluir:\n",
    "\n",
    "- Parques o áreas verdes para rodajes exteriores.\n",
    "\n",
    "- Centros comerciales que faciliten acceso a diferentes necesidades logísticas.\n",
    "\n",
    "- Bares o restaurantes para el catering del equipo.\n",
    "\n",
    "- Tiendas especializadas en disfraces o vestuario.\n",
    "\n",
    "- Alquileres de equipos audiovisuales.\n",
    "\n",
    "Es crucial entender que esta selección depende de la naturaleza y enfoque de la empresa. Tal vez para algunos proyectos sea más importante estar cerca de áreas residenciales o lugares con buena conexión de transporte. Otros proyectos podrían priorizar la proximidad a tiendas especializadas o servicios de entretenimiento. Es vuestra decisión! \n",
    "\n",
    "1. Crear una cuenta en [Foursquare](https://location.foursquare.com/developer/) y obtener la API Key necesaria para realizar las solicitudes. Leer la documentación para entender como funciona. \n",
    "\n",
    "2. Definir una función para realizar búsquedas de lugares cercanos a las coordenadas de cada municipio. Esta función debe permitir filtrar los resultados por categoría y distancia.\n",
    "\n",
    "3. Explorar las categorías disponibles en Foursquare y seleccionar aquellas que se ajusten a los servicios clave que decidáis para vuestra estrategia.\n",
    "\n",
    "4. Aplicar la función de búsqueda a cada municipio, recopilando información sobre los lugares relevantes.\n",
    "\n",
    "Recuerda que la elección de categorías es un punto de análisis clave en este ejercicio, ya que la información que obtendréis será fundamental para decidir la ubicación ideal para vuestra empresa. Aseguraos de justificar vuestras decisiones y considerar diferentes perspectivas. Para cada una de los municipios deberás sacar la información de todos los servicios elegidos. "
   ]
  },
  {
   "cell_type": "markdown",
   "metadata": {},
   "source": [
    "---"
   ]
  },
  {
   "cell_type": "markdown",
   "metadata": {},
   "source": [
    "Buscar lugares cercanos por coordenadas y radio para cuando obtengamos los kartings busquemos:\n",
    "\n",
    "+ Restaurantes\n",
    "+ Parking\n",
    "+ Centro comercial\n",
    "+ Almacenes"
   ]
  },
  {
   "cell_type": "code",
   "execution_count": 183,
   "metadata": {},
   "outputs": [],
   "source": [
    "def buscar_lugares_cercanos(coordenadas, categoria=None, query=None, distancia=1000):\n",
    "\n",
    "    url = \"https://api.foursquare.com/v3/places/search\"\n",
    "    \n",
    "    headers = {\n",
    "        \"accept\": \"application/json\",\n",
    "        \"Authorization\": api_key\n",
    "    }\n",
    "    \n",
    "    # Parámetros: latitud, longitud y radio (en metros)\n",
    "    params = {\n",
    "        \"ll\": f\"{coordenadas[0]},{coordenadas[1]}\",\n",
    "        \"radius\": distancia\n",
    "    }\n",
    "    \n",
    "    # Agregar la categoría si está definida\n",
    "    if categoria:\n",
    "        params[\"categories\"] = categoria\n",
    "\n",
    "    elif query:\n",
    "        params[\"query\"] = query\n",
    "    \n",
    "    # Realizar la solicitud a Foursquare\n",
    "    response = requests.get(url, headers=headers, params=params)\n",
    "\n",
    "    # Si el código de estado es 200\n",
    "    if response.status_code == 200:\n",
    "        # Devolvemos la respuesta en json\n",
    "        return response.json()\n",
    "    \n",
    "    else:\n",
    "        print(f'Error {response.status_code}')"
   ]
  },
  {
   "cell_type": "markdown",
   "metadata": {},
   "source": [
    "Necesitamos estar cerca de un circuito de Karts ya que estamos especializados en rodajes para motorsport. Es importante tener parking disponible cerca para dejar los vehículos de desplazamiento del equipo y tener bares o restaurantes cerca. A nuestro equipo no le gusta el 100 Montaditos ni el McDonald's por lo que debemos excluirlo de nuestra búsqueda."
   ]
  },
  {
   "cell_type": "markdown",
   "metadata": {},
   "source": [
    "Búsqueda de karting"
   ]
  },
  {
   "cell_type": "code",
   "execution_count": 164,
   "metadata": {},
   "outputs": [],
   "source": [
    "coordenadas = df_locations[['Latitud', 'Longitud']].values"
   ]
  },
  {
   "cell_type": "code",
   "execution_count": 165,
   "metadata": {},
   "outputs": [
    {
     "data": {
      "text/plain": [
       "array([41.0869583, -3.624399 ])"
      ]
     },
     "execution_count": 165,
     "metadata": {},
     "output_type": "execute_result"
    }
   ],
   "source": [
    "coordenadas[0]"
   ]
  },
  {
   "cell_type": "code",
   "execution_count": null,
   "metadata": {},
   "outputs": [],
   "source": [
    "# Buscar karting\n",
    "resultados = []\n",
    "\n",
    "for i in range(df_locations.shape[0]):\n",
    "\n",
    "    time.sleep(random.randint(500, 1500) / 1000)\n",
    "\n",
    "    # Hacemos la llamada a la API y almacenamos el resultado\n",
    "    res = buscar_lugares_cercanos(coordenadas[i], categoria=None, query=\"karting\", distancia=3000)\n",
    "    # Número de resultados\n",
    "    number_of_results = len(res['results'])\n",
    "\n",
    "    # Si hay un resultado y no está en la lista lo añadimos\n",
    "    if number_of_results == 1 and res['results'] not in resultados:\n",
    "        resultados.append(res['results'])\n",
    "\n",
    "    elif number_of_results > 1:\n",
    "\n",
    "        for j in range(number_of_results):\n",
    "\n",
    "            if res['results'][j] not in resultados:\n",
    "                resultados.append(res['results'][j])"
   ]
  },
  {
   "cell_type": "code",
   "execution_count": 91,
   "metadata": {},
   "outputs": [
    {
     "data": {
      "text/plain": [
       "[{'fsq_id': '53fb7963498e41f50c294aea',\n",
       "  'categories': [{'id': 10019,\n",
       "    'name': 'Go Kart Track',\n",
       "    'short_name': 'Go Kart',\n",
       "    'plural_name': 'Go Kart Tracks',\n",
       "    'icon': {'prefix': 'https://ss3.4sqi.net/img/categories_v2/arts_entertainment/racetrack_',\n",
       "     'suffix': '.png'}}],\n",
       "  'chains': [],\n",
       "  'closed_bucket': 'VeryLikelyOpen',\n",
       "  'distance': 793,\n",
       "  'geocodes': {'main': {'latitude': 40.34727, 'longitude': -3.53541},\n",
       "   'roof': {'latitude': 40.34727, 'longitude': -3.53541}},\n",
       "  'link': '/v3/places/53fb7963498e41f50c294aea',\n",
       "  'location': {'address': 'Calle de la Fundición, 89',\n",
       "   'admin_region': 'Comunidad de Madrid',\n",
       "   'country': 'ES',\n",
       "   'cross_street': 'La Tuerca',\n",
       "   'formatted_address': 'Calle de la Fundición, 89 (La Tuerca), 28522 Rivas-Vaciamadrid Comunidad de Madrid',\n",
       "   'locality': 'Rivas-Vaciamadrid',\n",
       "   'postcode': '28522',\n",
       "   'region': 'Comunidad de Madrid'},\n",
       "  'name': 'KartingRivas',\n",
       "  'related_places': {},\n",
       "  'timezone': 'Europe/Madrid'}]"
      ]
     },
     "execution_count": 91,
     "metadata": {},
     "output_type": "execute_result"
    }
   ],
   "source": [
    "respuesta['results']"
   ]
  },
  {
   "cell_type": "code",
   "execution_count": 104,
   "metadata": {},
   "outputs": [
    {
     "data": {
      "text/plain": [
       "793"
      ]
     },
     "execution_count": 104,
     "metadata": {},
     "output_type": "execute_result"
    }
   ],
   "source": [
    "respuesta['results'][0]['distance']"
   ]
  },
  {
   "cell_type": "code",
   "execution_count": 106,
   "metadata": {},
   "outputs": [
    {
     "data": {
      "text/plain": [
       "{'address': 'Calle de la Fundición, 89',\n",
       " 'admin_region': 'Comunidad de Madrid',\n",
       " 'country': 'ES',\n",
       " 'cross_street': 'La Tuerca',\n",
       " 'formatted_address': 'Calle de la Fundición, 89 (La Tuerca), 28522 Rivas-Vaciamadrid Comunidad de Madrid',\n",
       " 'locality': 'Rivas-Vaciamadrid',\n",
       " 'postcode': '28522',\n",
       " 'region': 'Comunidad de Madrid'}"
      ]
     },
     "execution_count": 106,
     "metadata": {},
     "output_type": "execute_result"
    }
   ],
   "source": [
    "respuesta['results'][0]['location']"
   ]
  },
  {
   "cell_type": "code",
   "execution_count": 108,
   "metadata": {},
   "outputs": [
    {
     "data": {
      "text/plain": [
       "'KartingRivas'"
      ]
     },
     "execution_count": 108,
     "metadata": {},
     "output_type": "execute_result"
    }
   ],
   "source": [
    "respuesta['results'][0]['name']"
   ]
  },
  {
   "cell_type": "code",
   "execution_count": 114,
   "metadata": {},
   "outputs": [
    {
     "data": {
      "text/plain": [
       "40.34727"
      ]
     },
     "execution_count": 114,
     "metadata": {},
     "output_type": "execute_result"
    }
   ],
   "source": [
    "respuesta['results'][0]['geocodes']['main']['latitude']"
   ]
  },
  {
   "cell_type": "code",
   "execution_count": 113,
   "metadata": {},
   "outputs": [
    {
     "data": {
      "text/plain": [
       "-3.53541"
      ]
     },
     "execution_count": 113,
     "metadata": {},
     "output_type": "execute_result"
    }
   ],
   "source": [
    "respuesta['results'][0]['geocodes']['main']['longitude']"
   ]
  },
  {
   "cell_type": "markdown",
   "metadata": {},
   "source": [
    "Buscar en todo Madrid"
   ]
  },
  {
   "cell_type": "code",
   "execution_count": 153,
   "metadata": {},
   "outputs": [],
   "source": [
    "respuesta, codigo_respuesta = buscar_lugares_cercanos(40.34727, -3.53541, categoria=11000, distancia=1000)"
   ]
  },
  {
   "cell_type": "code",
   "execution_count": 159,
   "metadata": {},
   "outputs": [
    {
     "data": {
      "text/plain": [
       "[{'fsq_id': '79061bf7ab3b46fbc7a553b9',\n",
       "  'categories': [{'id': 11000,\n",
       "    'name': 'Business and Professional Services',\n",
       "    'short_name': 'Business and Professional Services',\n",
       "    'plural_name': 'Business and Professional Services',\n",
       "    'icon': {'prefix': 'https://ss3.4sqi.net/img/categories_v2/building/default_',\n",
       "     'suffix': '.png'}}],\n",
       "  'chains': [],\n",
       "  'closed_bucket': 'LikelyOpen',\n",
       "  'distance': 135,\n",
       "  'geocodes': {'drop_off': {'latitude': 40.346209, 'longitude': -3.535029},\n",
       "   'main': {'latitude': 40.346097, 'longitude': -3.534989},\n",
       "   'roof': {'latitude': 40.346097, 'longitude': -3.534989}},\n",
       "  'link': '/v3/places/79061bf7ab3b46fbc7a553b9',\n",
       "  'location': {'address': 'Joaquín Sorolla, 50',\n",
       "   'admin_region': 'Comunidad de Madrid',\n",
       "   'country': 'ES',\n",
       "   'formatted_address': 'Joaquín Sorolla, 50, 28522 Rivas-Vaciamadrid Comunidad de Madrid',\n",
       "   'locality': 'Rivas-Vaciamadrid',\n",
       "   'postcode': '28522',\n",
       "   'region': 'Comunidad de Madrid'},\n",
       "  'name': 'Euroseñal Rivas',\n",
       "  'related_places': {},\n",
       "  'timezone': 'Europe/Madrid'},\n",
       " {'fsq_id': 'c7148c20f21b4a9f0a882615',\n",
       "  'categories': [{'id': 11120,\n",
       "    'name': 'Manufacturer',\n",
       "    'short_name': 'Manufacturer',\n",
       "    'plural_name': 'Manufacturers',\n",
       "    'icon': {'prefix': 'https://ss3.4sqi.net/img/categories_v2/building/default_',\n",
       "     'suffix': '.png'}}],\n",
       "  'chains': [],\n",
       "  'closed_bucket': 'LikelyOpen',\n",
       "  'distance': 178,\n",
       "  'geocodes': {'drop_off': {'latitude': 40.347512, 'longitude': -3.537434},\n",
       "   'main': {'latitude': 40.347667, 'longitude': -3.537534},\n",
       "   'roof': {'latitude': 40.347667, 'longitude': -3.537534}},\n",
       "  'link': '/v3/places/c7148c20f21b4a9f0a882615',\n",
       "  'location': {'address': 'Calle Tornillo, 7',\n",
       "   'admin_region': 'Comunidad de Madrid',\n",
       "   'country': 'ES',\n",
       "   'formatted_address': 'Calle Tornillo, 7, 28522 Rivas-Vaciamadrid Comunidad de Madrid',\n",
       "   'locality': 'Rivas-Vaciamadrid',\n",
       "   'postcode': '28522',\n",
       "   'region': 'Comunidad de Madrid'},\n",
       "  'name': 'Montajes y Obras',\n",
       "  'related_places': {},\n",
       "  'timezone': 'Europe/Madrid'},\n",
       " {'fsq_id': '4e0dd2872fb63cdf3343bc0e',\n",
       "  'categories': [{'id': 11010,\n",
       "    'name': 'Automotive Repair Shop',\n",
       "    'short_name': 'Auto Repair',\n",
       "    'plural_name': 'Automotive Repair Shops',\n",
       "    'icon': {'prefix': 'https://ss3.4sqi.net/img/categories_v2/shops/automotive_',\n",
       "     'suffix': '.png'}}],\n",
       "  'chains': [],\n",
       "  'closed_bucket': 'Unsure',\n",
       "  'distance': 186,\n",
       "  'geocodes': {'main': {'latitude': 40.349976, 'longitude': -3.533348}},\n",
       "  'link': '/v3/places/4e0dd2872fb63cdf3343bc0e',\n",
       "  'location': {'address': 'Fundicion, 81',\n",
       "   'admin_region': 'Comunidad de Madrid',\n",
       "   'country': 'ES',\n",
       "   'formatted_address': 'Fundicion, 81, 28529 Rivas-Vaciamadrid Comunidad de Madrid',\n",
       "   'locality': 'Rivas-Vaciamadrid',\n",
       "   'postcode': '28529',\n",
       "   'region': 'Comunidad de Madrid'},\n",
       "  'name': 'Talleres Almagro',\n",
       "  'related_places': {},\n",
       "  'timezone': 'Europe/Madrid'},\n",
       " {'fsq_id': '5792336e498e3e47fe89dfe2',\n",
       "  'categories': [{'id': 11010,\n",
       "    'name': 'Automotive Repair Shop',\n",
       "    'short_name': 'Auto Repair',\n",
       "    'plural_name': 'Automotive Repair Shops',\n",
       "    'icon': {'prefix': 'https://ss3.4sqi.net/img/categories_v2/shops/automotive_',\n",
       "     'suffix': '.png'}}],\n",
       "  'chains': [],\n",
       "  'closed_bucket': 'LikelyOpen',\n",
       "  'distance': 212,\n",
       "  'geocodes': {'drop_off': {'latitude': 40.348763, 'longitude': -3.53672},\n",
       "   'main': {'latitude': 40.348989, 'longitude': -3.536517},\n",
       "   'roof': {'latitude': 40.348989, 'longitude': -3.536517}},\n",
       "  'link': '/v3/places/5792336e498e3e47fe89dfe2',\n",
       "  'location': {'address': 'Calle de la Fundición, 81',\n",
       "   'admin_region': 'Comunidad de Madrid',\n",
       "   'country': 'ES',\n",
       "   'cross_street': '',\n",
       "   'formatted_address': 'Calle de la Fundición, 81, 28522 Rivas-Vaciamadrid Comunidad de Madrid',\n",
       "   'locality': 'Rivas-Vaciamadrid',\n",
       "   'postcode': '28522',\n",
       "   'region': 'Comunidad de Madrid'},\n",
       "  'name': 'Automoción Rycauto',\n",
       "  'related_places': {},\n",
       "  'timezone': 'Europe/Madrid'},\n",
       " {'fsq_id': '4fe32c37e4b008f948c7919b',\n",
       "  'categories': [{'id': 11009,\n",
       "    'name': 'Automotive Service',\n",
       "    'short_name': 'Automotive Service',\n",
       "    'plural_name': 'Automotive Services',\n",
       "    'icon': {'prefix': 'https://ss3.4sqi.net/img/categories_v2/shops/automotive_',\n",
       "     'suffix': '.png'}}],\n",
       "  'chains': [],\n",
       "  'closed_bucket': 'LikelyOpen',\n",
       "  'distance': 251,\n",
       "  'geocodes': {'drop_off': {'latitude': 40.345914, 'longitude': -3.532926},\n",
       "   'main': {'latitude': 40.346177, 'longitude': -3.532816},\n",
       "   'roof': {'latitude': 40.346177, 'longitude': -3.532816}},\n",
       "  'link': '/v3/places/4fe32c37e4b008f948c7919b',\n",
       "  'location': {'address': 'Calle Fundición, 101',\n",
       "   'admin_region': 'Comunidad de Madrid',\n",
       "   'country': 'ES',\n",
       "   'cross_street': '',\n",
       "   'formatted_address': 'Calle Fundición, 101, 28522 Rivas-Vaciamadrid Comunidad de Madrid',\n",
       "   'locality': 'Rivas-Vaciamadrid',\n",
       "   'postcode': '28522',\n",
       "   'region': 'Comunidad de Madrid'},\n",
       "  'name': 'Taller Kia Ibericar Móvil',\n",
       "  'related_places': {},\n",
       "  'timezone': 'Europe/Madrid'},\n",
       " {'fsq_id': 'f01c3ad5a0d24d7f2b34b5b2',\n",
       "  'categories': [{'id': 11163,\n",
       "    'name': 'Shipping, Freight, and Material Transportation Service',\n",
       "    'short_name': 'Shipping Service',\n",
       "    'plural_name': 'Shipping, Freight, and Material Transportation Services',\n",
       "    'icon': {'prefix': 'https://ss3.4sqi.net/img/categories_v2/shops/default_',\n",
       "     'suffix': '.png'}}],\n",
       "  'chains': [],\n",
       "  'closed_bucket': 'LikelyOpen',\n",
       "  'distance': 323,\n",
       "  'geocodes': {'main': {'latitude': 40.345794, 'longitude': -3.538709},\n",
       "   'roof': {'latitude': 40.345794, 'longitude': -3.538709}},\n",
       "  'link': '/v3/places/f01c3ad5a0d24d7f2b34b5b2',\n",
       "  'location': {'address': 'Berbiqui, 26',\n",
       "   'admin_region': 'Comunidad de Madrid',\n",
       "   'country': 'ES',\n",
       "   'formatted_address': 'Berbiqui, 26, 28529 Rivas-Vaciamadrid Comunidad de Madrid',\n",
       "   'locality': 'Rivas-Vaciamadrid',\n",
       "   'postcode': '28529',\n",
       "   'region': 'Comunidad de Madrid'},\n",
       "  'name': 'Transportes Fernando Varas',\n",
       "  'related_places': {},\n",
       "  'timezone': 'Europe/Madrid'},\n",
       " {'fsq_id': '65845dd5d0c341eb6c6fc365',\n",
       "  'categories': [{'id': 11115,\n",
       "    'name': 'Locksmith',\n",
       "    'short_name': 'Locksmith',\n",
       "    'plural_name': 'Locksmiths',\n",
       "    'icon': {'prefix': 'https://ss3.4sqi.net/img/categories_v2/shops/default_',\n",
       "     'suffix': '.png'}}],\n",
       "  'chains': [],\n",
       "  'closed_bucket': 'VeryLikelyOpen',\n",
       "  'distance': 333,\n",
       "  'geocodes': {'main': {'latitude': 40.344716, 'longitude': -3.537637},\n",
       "   'roof': {'latitude': 40.344716, 'longitude': -3.537637}},\n",
       "  'link': '/v3/places/65845dd5d0c341eb6c6fc365',\n",
       "  'location': {'address': 'Calle el Electrodo, 66',\n",
       "   'admin_region': 'Comunidad de Madrid',\n",
       "   'country': 'ES',\n",
       "   'formatted_address': 'Calle el Electrodo, 66, 28522 Rivas-Vaciamadrid Comunidad de Madrid',\n",
       "   'locality': 'Rivas-Vaciamadrid',\n",
       "   'postcode': '28522',\n",
       "   'region': 'Comunidad de Madrid'},\n",
       "  'name': 'Cerrajería Ainobar',\n",
       "  'related_places': {},\n",
       "  'timezone': 'Europe/Madrid'},\n",
       " {'fsq_id': '152bd13965e0474858aabe94',\n",
       "  'categories': [{'id': 11105,\n",
       "    'name': 'Industrial Equipment Supplier',\n",
       "    'short_name': 'Industrial Equipment Supplier',\n",
       "    'plural_name': 'Industrial Equipment Suppliers',\n",
       "    'icon': {'prefix': 'https://ss3.4sqi.net/img/categories_v2/building/default_',\n",
       "     'suffix': '.png'}}],\n",
       "  'chains': [],\n",
       "  'closed_bucket': 'LikelyOpen',\n",
       "  'distance': 387,\n",
       "  'geocodes': {'main': {'latitude': 40.34359, 'longitude': -3.53689},\n",
       "   'roof': {'latitude': 40.34359, 'longitude': -3.53689}},\n",
       "  'link': '/v3/places/152bd13965e0474858aabe94',\n",
       "  'location': {'address': 'Calle del Electrodo, 72',\n",
       "   'admin_region': 'Comunidad de Madrid',\n",
       "   'country': 'ES',\n",
       "   'formatted_address': 'Calle del Electrodo, 72, 28522 Rivas-Vaciamadrid Comunidad de Madrid',\n",
       "   'locality': 'Rivas-Vaciamadrid',\n",
       "   'postcode': '28522',\n",
       "   'region': 'Comunidad de Madrid'},\n",
       "  'name': 'Rodamientos Vera',\n",
       "  'related_places': {},\n",
       "  'timezone': 'Europe/Madrid'},\n",
       " {'fsq_id': '2fa932643faa4b7447389992',\n",
       "  'categories': [{'id': 11010,\n",
       "    'name': 'Automotive Repair Shop',\n",
       "    'short_name': 'Auto Repair',\n",
       "    'plural_name': 'Automotive Repair Shops',\n",
       "    'icon': {'prefix': 'https://ss3.4sqi.net/img/categories_v2/shops/automotive_',\n",
       "     'suffix': '.png'}},\n",
       "   {'id': 11015,\n",
       "    'name': 'Tire Repair Shop',\n",
       "    'short_name': 'Tire Repair Shop',\n",
       "    'plural_name': 'Tire Repair Shops',\n",
       "    'icon': {'prefix': 'https://ss3.4sqi.net/img/categories_v2/shops/automotive_',\n",
       "     'suffix': '.png'}}],\n",
       "  'chains': [],\n",
       "  'closed_bucket': 'LikelyOpen',\n",
       "  'distance': 474,\n",
       "  'geocodes': {'drop_off': {'latitude': 40.350556, 'longitude': -3.538807},\n",
       "   'main': {'latitude': 40.350731, 'longitude': -3.538683},\n",
       "   'roof': {'latitude': 40.350731, 'longitude': -3.538683}},\n",
       "  'link': '/v3/places/2fa932643faa4b7447389992',\n",
       "  'location': {'address': 'Calle de Fundicion de la, 59',\n",
       "   'admin_region': 'Comunidad de Madrid',\n",
       "   'country': 'ES',\n",
       "   'formatted_address': 'Calle de Fundicion de la, 59, 28522 Rivas-Vaciamadrid Comunidad de Madrid',\n",
       "   'locality': 'Rivas-Vaciamadrid',\n",
       "   'postcode': '28522',\n",
       "   'region': 'Comunidad de Madrid'},\n",
       "  'name': 'Dimaroil',\n",
       "  'related_places': {},\n",
       "  'timezone': 'Europe/Madrid'},\n",
       " {'fsq_id': '79d552006670480d78dbcf13',\n",
       "  'categories': [{'id': 11000,\n",
       "    'name': 'Business and Professional Services',\n",
       "    'short_name': 'Business and Professional Services',\n",
       "    'plural_name': 'Business and Professional Services',\n",
       "    'icon': {'prefix': 'https://ss3.4sqi.net/img/categories_v2/building/default_',\n",
       "     'suffix': '.png'}}],\n",
       "  'chains': [],\n",
       "  'closed_bucket': 'LikelyOpen',\n",
       "  'distance': 496,\n",
       "  'geocodes': {'drop_off': {'latitude': 40.350727, 'longitude': -3.539049},\n",
       "   'main': {'latitude': 40.350934, 'longitude': -3.538903},\n",
       "   'roof': {'latitude': 40.350934, 'longitude': -3.538903}},\n",
       "  'link': '/v3/places/79d552006670480d78dbcf13',\n",
       "  'location': {'address': 'Calle Fundición, 57',\n",
       "   'admin_region': 'Comunidad de Madrid',\n",
       "   'country': 'ES',\n",
       "   'formatted_address': 'Calle Fundición, 57, 28529 Rivas-Vaciamadrid Comunidad de Madrid',\n",
       "   'locality': 'Rivas-Vaciamadrid',\n",
       "   'postcode': '28529',\n",
       "   'region': 'Comunidad de Madrid'},\n",
       "  'name': 'Aucema',\n",
       "  'related_places': {},\n",
       "  'timezone': 'Europe/Madrid'}]"
      ]
     },
     "execution_count": 159,
     "metadata": {},
     "output_type": "execute_result"
    }
   ],
   "source": [
    "respuesta['results']"
   ]
  },
  {
   "cell_type": "code",
   "execution_count": null,
   "metadata": {},
   "outputs": [],
   "source": []
  }
 ],
 "metadata": {
  "kernelspec": {
   "display_name": "test",
   "language": "python",
   "name": "python3"
  },
  "language_info": {
   "codemirror_mode": {
    "name": "ipython",
    "version": 3
   },
   "file_extension": ".py",
   "mimetype": "text/x-python",
   "name": "python",
   "nbconvert_exporter": "python",
   "pygments_lexer": "ipython3",
   "version": "3.12.4"
  }
 },
 "nbformat": 4,
 "nbformat_minor": 2
}
